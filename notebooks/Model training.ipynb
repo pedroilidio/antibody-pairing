{
 "cells": [
  {
   "cell_type": "code",
   "execution_count": 1,
   "id": "sunset-evening",
   "metadata": {},
   "outputs": [],
   "source": [
    "from importlib import reload\n",
    "import tensorflow as tf\n",
    "import pandas as pd\n",
    "import numpy as np\n",
    "import sys\n",
    "import joblib\n",
    "from sklearn.model_selection import train_test_split, cross_val_score\n",
    "from sklearn.metrics import plot_roc_curve"
   ]
  },
  {
   "cell_type": "code",
   "execution_count": 2,
   "id": "practical-factor",
   "metadata": {},
   "outputs": [],
   "source": [
    "from lightgbm import LGBMClassifier\n",
    "from xgboost.sklearn import XGBClassifier\n",
    "from sklearn.neural_network import MLPClassifier\n",
    "from sklearn.neighbors import KNeighborsClassifier\n",
    "from sklearn.preprocessing import StandardScaler\n",
    "from sklearn.pipeline import make_pipeline\n",
    "from sklearn.ensemble import RandomForestClassifier\n",
    "from sklearn.svm import SVC"
   ]
  },
  {
   "cell_type": "code",
   "execution_count": 3,
   "id": "controlled-spyware",
   "metadata": {},
   "outputs": [
    {
     "name": "stdout",
     "output_type": "stream",
     "text": [
      "/home/pedro/hackathon/antibody-pairing\n"
     ]
    }
   ],
   "source": [
    "%cd ../"
   ]
  },
  {
   "cell_type": "code",
   "execution_count": 4,
   "id": "dedicated-crash",
   "metadata": {},
   "outputs": [
    {
     "name": "stdout",
     "output_type": "stream",
     "text": [
      "Dataset is 10.689168144 GB.\n"
     ]
    }
   ],
   "source": [
    "X = pd.read_csv('train_data/train.csv.zip')\n",
    "print(f'Dataset is {sys.getsizeof(X)/10**9} GB.')"
   ]
  },
  {
   "cell_type": "code",
   "execution_count": 5,
   "id": "minus-characteristic",
   "metadata": {},
   "outputs": [],
   "source": [
    "Y = np.zeros(X.shape[0])\n",
    "Y[:Y.size//2] = 1"
   ]
  },
  {
   "cell_type": "code",
   "execution_count": 21,
   "id": "wrong-schema",
   "metadata": {},
   "outputs": [],
   "source": [
    "targets = pd.Series(Y)\n",
    "targets.name = 'target'\n",
    "targets.to_csv('train_data/targets.csv', index=False)\n",
    "targets"
   ]
  },
  {
   "cell_type": "code",
   "execution_count": 6,
   "id": "raising-compound",
   "metadata": {
    "tags": []
   },
   "outputs": [],
   "source": [
    "Xtr, Xts, Ytr, Yts = train_test_split(X, Y, test_size=.1,\n",
    "                                      random_state=42)"
   ]
  },
  {
   "cell_type": "code",
   "execution_count": 46,
   "id": "therapeutic-austria",
   "metadata": {
    "collapsed": true,
    "jupyter": {
     "outputs_hidden": true
    },
    "tags": []
   },
   "outputs": [
    {
     "name": "stderr",
     "output_type": "stream",
     "text": [
      "[Parallel(n_jobs=-1)]: Using backend ThreadingBackend with 80 concurrent workers.\n"
     ]
    },
    {
     "name": "stdout",
     "output_type": "stream",
     "text": [
      "building tree 1 of 100\n",
      "building tree 2 of 100\n",
      "building tree 3 of 100\n",
      "building tree 4 of 100\n",
      "building tree 5 of 100\n",
      "building tree 6 of 100building tree 7 of 100\n",
      "building tree 8 of 100\n",
      "building tree 9 of 100\n",
      "\n",
      "building tree 10 of 100\n",
      "building tree 11 of 100\n",
      "building tree 12 of 100\n",
      "building tree 13 of 100\n",
      "building tree 14 of 100\n",
      "building tree 15 of 100\n",
      "building tree 16 of 100\n",
      "building tree 17 of 100\n",
      "building tree 18 of 100building tree 19 of 100\n",
      "\n",
      "building tree 20 of 100\n",
      "building tree 21 of 100\n",
      "building tree 22 of 100\n",
      "building tree 23 of 100building tree 24 of 100\n",
      "building tree 25 of 100\n",
      "\n",
      "building tree 26 of 100\n",
      "building tree 27 of 100\n",
      "building tree 28 of 100\n",
      "building tree 29 of 100\n",
      "building tree 30 of 100\n",
      "building tree 31 of 100\n",
      "building tree 32 of 100\n",
      "building tree 33 of 100\n",
      "building tree 34 of 100\n",
      "building tree 35 of 100\n",
      "building tree 36 of 100\n",
      "building tree 37 of 100\n",
      "building tree 38 of 100\n",
      "building tree 39 of 100\n",
      "building tree 40 of 100\n",
      "building tree 41 of 100\n",
      "building tree 42 of 100\n",
      "building tree 43 of 100\n",
      "building tree 44 of 100\n",
      "building tree 45 of 100\n",
      "building tree 46 of 100\n",
      "building tree 47 of 100\n",
      "building tree 48 of 100\n",
      "building tree 49 of 100\n",
      "building tree 50 of 100\n",
      "building tree 51 of 100\n",
      "building tree 52 of 100\n",
      "building tree 53 of 100\n",
      "building tree 54 of 100\n",
      "building tree 55 of 100\n",
      "building tree 56 of 100\n",
      "building tree 57 of 100\n",
      "building tree 58 of 100\n",
      "building tree 59 of 100\n",
      "building tree 60 of 100\n",
      "building tree 61 of 100\n",
      "building tree 62 of 100\n",
      "building tree 63 of 100\n",
      "building tree 64 of 100\n",
      "building tree 65 of 100\n",
      "building tree 66 of 100\n",
      "building tree 67 of 100\n",
      "building tree 68 of 100\n",
      "building tree 69 of 100\n",
      "building tree 70 of 100\n",
      "building tree 71 of 100\n",
      "building tree 72 of 100\n",
      "building tree 73 of 100\n",
      "building tree 74 of 100\n",
      "building tree 75 of 100\n",
      "building tree 76 of 100\n",
      "building tree 77 of 100\n",
      "building tree 78 of 100\n",
      "building tree 79 of 100\n",
      "building tree 80 of 100\n",
      "building tree 81 of 100\n",
      "building tree 82 of 100\n",
      "building tree 83 of 100\n",
      "building tree 84 of 100\n",
      "building tree 85 of 100\n",
      "building tree 86 of 100\n",
      "building tree 87 of 100\n",
      "building tree 88 of 100\n",
      "building tree 89 of 100\n",
      "building tree 90 of 100\n",
      "building tree 91 of 100\n",
      "building tree 92 of 100\n",
      "building tree 93 of 100\n",
      "building tree 94 of 100\n",
      "building tree 95 of 100\n",
      "building tree 96 of 100\n",
      "building tree 97 of 100\n",
      "building tree 98 of 100\n",
      "building tree 99 of 100\n",
      "building tree 100 of 100\n"
     ]
    },
    {
     "name": "stderr",
     "output_type": "stream",
     "text": [
      "[Parallel(n_jobs=-1)]: Done  43 out of 100 | elapsed:   23.2s remaining:   30.8s\n",
      "[Parallel(n_jobs=-1)]: Done  94 out of 100 | elapsed:   28.8s remaining:    1.8s\n",
      "[Parallel(n_jobs=-1)]: Done 100 out of 100 | elapsed:   30.4s finished\n"
     ]
    },
    {
     "data": {
      "text/plain": [
       "RandomForestClassifier(max_depth=30, n_jobs=-1, random_state=42, verbose=2)"
      ]
     },
     "execution_count": 46,
     "metadata": {},
     "output_type": "execute_result"
    }
   ],
   "source": [
    "#classifier = make_pipeline(StandardScaler(), MLPClassifier(verbose=True))\n",
    "classifier = RandomForestClassifier(n_estimators=100, max_depth=30, verbose=2, n_jobs=-1, random_state=42)\n",
    "classifier.fit(Xtr, Ytr)"
   ]
  },
  {
   "cell_type": "code",
   "execution_count": 50,
   "id": "incorporated-flexibility",
   "metadata": {},
   "outputs": [
    {
     "name": "stderr",
     "output_type": "stream",
     "text": [
      "[Parallel(n_jobs=80)]: Using backend ThreadingBackend with 80 concurrent workers.\n",
      "[Parallel(n_jobs=80)]: Done  43 out of 100 | elapsed:    0.1s remaining:    0.1s\n",
      "[Parallel(n_jobs=80)]: Done  94 out of 100 | elapsed:    0.1s remaining:    0.0s\n",
      "[Parallel(n_jobs=80)]: Done 100 out of 100 | elapsed:    0.1s finished\n"
     ]
    },
    {
     "data": {
      "text/plain": [
       "<sklearn.metrics._plot.roc_curve.RocCurveDisplay at 0x7fcd0831a070>"
      ]
     },
     "execution_count": 50,
     "metadata": {},
     "output_type": "execute_result"
    },
    {
     "data": {
      "image/png": "[encoded data removed]",
      "text/plain": [
       "<Figure size 432x288 with 1 Axes>"
      ]
     },
     "metadata": {
      "needs_background": "light"
     },
     "output_type": "display_data"
    }
   ],
   "source": [
    "plot_roc_curve(classifier, Xts, Yts)"
   ]
  },
  {
   "cell_type": "code",
   "execution_count": 49,
   "id": "representative-chaos",
   "metadata": {},
   "outputs": [
    {
     "name": "stderr",
     "output_type": "stream",
     "text": [
      "[Parallel(n_jobs=80)]: Using backend ThreadingBackend with 80 concurrent workers.\n",
      "[Parallel(n_jobs=80)]: Done  43 out of 100 | elapsed:    0.1s remaining:    0.1s\n",
      "[Parallel(n_jobs=80)]: Done  94 out of 100 | elapsed:    0.1s remaining:    0.0s\n",
      "[Parallel(n_jobs=80)]: Done 100 out of 100 | elapsed:    0.1s finished\n"
     ]
    },
    {
     "data": {
      "text/plain": [
       "<sklearn.metrics._plot.roc_curve.RocCurveDisplay at 0x7fcd0820a670>"
      ]
     },
     "execution_count": 49,
     "metadata": {},
     "output_type": "execute_result"
    },
    {
     "data": {
      "image/png": "[encoded data removed]",
      "text/plain": [
       "<Figure size 432x288 with 1 Axes>"
      ]
     },
     "metadata": {
      "needs_background": "light"
     },
     "output_type": "display_data"
    }
   ],
   "source": [
    "Ytsr = Yts.copy()\n",
    "np.random.shuffle(Ytsr)\n",
    "plot_roc_curve(classifier, Xts, Ytsr)"
   ]
  },
  {
   "cell_type": "code",
   "execution_count": 51,
   "id": "commercial-fleece",
   "metadata": {},
   "outputs": [
    {
     "name": "stderr",
     "output_type": "stream",
     "text": [
      "[Parallel(n_jobs=80)]: Using backend ThreadingBackend with 80 concurrent workers.\n",
      "[Parallel(n_jobs=80)]: Done  43 out of 100 | elapsed:    0.1s remaining:    0.1s\n",
      "[Parallel(n_jobs=80)]: Done  94 out of 100 | elapsed:    0.1s remaining:    0.0s\n",
      "[Parallel(n_jobs=80)]: Done 100 out of 100 | elapsed:    0.1s finished\n"
     ]
    }
   ],
   "source": [
    "Yp = classifier.predict_proba(Xts)"
   ]
  },
  {
   "cell_type": "code",
   "execution_count": 54,
   "id": "comparative-skiing",
   "metadata": {},
   "outputs": [],
   "source": [
    "guess = (1-Yp[:,0] + Yp[:,1]) / 2"
   ]
  },
  {
   "cell_type": "code",
   "execution_count": 60,
   "id": "departmental-level",
   "metadata": {},
   "outputs": [
    {
     "data": {
      "text/plain": [
       "(array([[1., 1., 1., ..., 1., 0., 0.],\n",
       "        [0., 1., 1., ..., 1., 1., 0.],\n",
       "        [0., 1., 0., ..., 1., 0., 1.],\n",
       "        [0., 0., 1., ..., 1., 0., 0.],\n",
       "        [0., 1., 1., ..., 0., 0., 0.]]),\n",
       " array([[0., 0., 0., ..., 0., 1., 1.],\n",
       "        [1., 1., 0., ..., 0., 0., 1.],\n",
       "        [1., 0., 1., ..., 0., 1., 0.],\n",
       "        [1., 1., 1., ..., 0., 1., 1.],\n",
       "        [1., 0., 0., ..., 1., 1., 1.]]))"
      ]
     },
     "execution_count": 60,
     "metadata": {},
     "output_type": "execute_result"
    }
   ],
   "source": [
    "Yts.reshape(5, -1), guess.round().reshape(5, -1)"
   ]
  },
  {
   "cell_type": "markdown",
   "id": "parallel-ancient",
   "metadata": {},
   "source": [
    "### Save model"
   ]
  },
  {
   "cell_type": "code",
   "execution_count": 64,
   "id": "acknowledged-croatia",
   "metadata": {
    "tags": []
   },
   "outputs": [],
   "source": [
    "classifier = RandomForestClassifier(n_estimators=90, max_depth=30, verbose=2, n_jobs=-1, random_state=42)\n",
    "classifier.fit(X, Y)"
   ]
  },
  {
   "cell_type": "code",
   "execution_count": 65,
   "id": "executive-treasure",
   "metadata": {
    "tags": []
   },
   "outputs": [
    {
     "data": {
      "text/plain": [
       "['models/RandomForest_100est_30depth.pkl']"
      ]
     },
     "execution_count": 65,
     "metadata": {},
     "output_type": "execute_result"
    }
   ],
   "source": [
    "joblib.dump(classifier, 'models/RandomForest_100est_30depth.pkl')"
   ]
  },
  {
   "cell_type": "code",
   "execution_count": 66,
   "id": "exact-concrete",
   "metadata": {
    "tags": []
   },
   "outputs": [
    {
     "name": "stdout",
     "output_type": "stream",
     "text": [
      "Iteration 1, loss = 0.80665327\n",
      "Iteration 2, loss = 0.70102950\n",
      "Iteration 3, loss = 0.69931056\n",
      "Iteration 4, loss = 0.69826968\n",
      "Iteration 5, loss = 0.69837270\n",
      "Iteration 6, loss = 0.69732453\n",
      "Iteration 7, loss = 0.69909883\n",
      "Iteration 8, loss = 0.69805398\n"
     ]
    },
    {
     "name": "stderr",
     "output_type": "stream",
     "text": [
      "/usr/lib/python3.9/site-packages/sklearn/neural_network/_multilayer_perceptron.py:619: UserWarning: Training interrupted by user.\n",
      "  warnings.warn(\"Training interrupted by user.\")\n"
     ]
    },
    {
     "data": {
      "text/plain": [
       "Pipeline(steps=[('standardscaler', StandardScaler()),\n",
       "                ('mlpclassifier', MLPClassifier(verbose=True))])"
      ]
     },
     "execution_count": 66,
     "metadata": {},
     "output_type": "execute_result"
    }
   ],
   "source": [
    "classifier = make_pipeline(StandardScaler(), MLPClassifier(verbose=True))\n",
    "classifier.fit(Xtr, Ytr)"
   ]
  },
  {
   "cell_type": "code",
   "execution_count": 68,
   "id": "canadian-giving",
   "metadata": {},
   "outputs": [
    {
     "data": {
      "text/plain": [
       "<sklearn.metrics._plot.roc_curve.RocCurveDisplay at 0x7fcd082448b0>"
      ]
     },
     "execution_count": 68,
     "metadata": {},
     "output_type": "execute_result"
    },
    {
     "data": {
      "image/png": "[encoded data removed]",
      "text/plain": [
       "<Figure size 432x288 with 1 Axes>"
      ]
     },
     "metadata": {
      "needs_background": "light"
     },
     "output_type": "display_data"
    }
   ],
   "source": [
    "plot_roc_curve(classifier, Xts, Yts)"
   ]
  },
  {
   "cell_type": "code",
   "execution_count": 70,
   "id": "dimensional-brooklyn",
   "metadata": {
    "tags": []
   },
   "outputs": [
    {
     "data": {
      "text/plain": [
       "Pipeline(steps=[('standardscaler', StandardScaler()),\n",
       "                ('kneighborsclassifier', KNeighborsClassifier())])"
      ]
     },
     "execution_count": 70,
     "metadata": {},
     "output_type": "execute_result"
    }
   ],
   "source": [
    "classifier = make_pipeline(StandardScaler(), KNeighborsClassifier())\n",
    "classifier.fit(Xtr, Ytr)"
   ]
  },
  {
   "cell_type": "code",
   "execution_count": null,
   "id": "continuing-anthony",
   "metadata": {},
   "outputs": [],
   "source": [
    "plot_roc_curve(classifier, Xts, Yts)"
   ]
  },
  {
   "cell_type": "code",
   "execution_count": 10,
   "id": "organizational-exhibition",
   "metadata": {},
   "outputs": [
    {
     "name": "stderr",
     "output_type": "stream",
     "text": [
      "/usr/lib/python3.9/site-packages/xgboost/sklearn.py:1176: UserWarning: The use of label encoder in XGBClassifier is deprecated and will be removed in a future release. To remove this warning, do the following: 1) Pass option use_label_encoder=False when constructing XGBClassifier object; and 2) Encode your labels (y) as integers starting with 0, i.e. 0, 1, 2, ..., [num_class - 1].\n",
      "  warnings.warn(label_encoder_deprecation_msg, UserWarning)\n"
     ]
    },
    {
     "name": "stdout",
     "output_type": "stream",
     "text": [
      "[06:57:37] DEBUG: /home/pedro/.cache/yay/xgboost-git/src/xgboost/src/gbm/gbtree.cc:155: Using tree method: 2\n",
      "[06:57:48] INFO: /home/pedro/.cache/yay/xgboost-git/src/xgboost/src/tree/updater_prune.cc:101: tree pruning end, 256 extra nodes, 0 pruned nodes, max_depth=10\n",
      "[06:57:48] WARNING: /home/pedro/.cache/yay/xgboost-git/src/xgboost/src/learner.cc:1094: Starting in XGBoost 1.3.0, the default evaluation metric used with the objective 'binary:logistic' was changed from 'error' to 'logloss'. Explicitly set eval_metric if you'd like to restore the old behavior.\n",
      "[06:57:51] INFO: /home/pedro/.cache/yay/xgboost-git/src/xgboost/src/tree/updater_prune.cc:101: tree pruning end, 538 extra nodes, 0 pruned nodes, max_depth=10\n",
      "[06:57:54] INFO: /home/pedro/.cache/yay/xgboost-git/src/xgboost/src/tree/updater_prune.cc:101: tree pruning end, 350 extra nodes, 0 pruned nodes, max_depth=10\n",
      "[06:57:58] INFO: /home/pedro/.cache/yay/xgboost-git/src/xgboost/src/tree/updater_prune.cc:101: tree pruning end, 78 extra nodes, 0 pruned nodes, max_depth=10\n",
      "[06:58:01] INFO: /home/pedro/.cache/yay/xgboost-git/src/xgboost/src/tree/updater_prune.cc:101: tree pruning end, 398 extra nodes, 0 pruned nodes, max_depth=10\n",
      "[06:58:04] INFO: /home/pedro/.cache/yay/xgboost-git/src/xgboost/src/tree/updater_prune.cc:101: tree pruning end, 220 extra nodes, 0 pruned nodes, max_depth=10\n",
      "[06:58:08] INFO: /home/pedro/.cache/yay/xgboost-git/src/xgboost/src/tree/updater_prune.cc:101: tree pruning end, 182 extra nodes, 0 pruned nodes, max_depth=10\n",
      "[06:58:11] INFO: /home/pedro/.cache/yay/xgboost-git/src/xgboost/src/tree/updater_prune.cc:101: tree pruning end, 240 extra nodes, 0 pruned nodes, max_depth=10\n",
      "[06:58:14] INFO: /home/pedro/.cache/yay/xgboost-git/src/xgboost/src/tree/updater_prune.cc:101: tree pruning end, 318 extra nodes, 0 pruned nodes, max_depth=10\n",
      "[06:58:18] INFO: /home/pedro/.cache/yay/xgboost-git/src/xgboost/src/tree/updater_prune.cc:101: tree pruning end, 222 extra nodes, 0 pruned nodes, max_depth=10\n",
      "[06:58:21] INFO: /home/pedro/.cache/yay/xgboost-git/src/xgboost/src/tree/updater_prune.cc:101: tree pruning end, 418 extra nodes, 0 pruned nodes, max_depth=10\n",
      "[06:58:24] INFO: /home/pedro/.cache/yay/xgboost-git/src/xgboost/src/tree/updater_prune.cc:101: tree pruning end, 302 extra nodes, 0 pruned nodes, max_depth=10\n",
      "[06:58:28] INFO: /home/pedro/.cache/yay/xgboost-git/src/xgboost/src/tree/updater_prune.cc:101: tree pruning end, 208 extra nodes, 0 pruned nodes, max_depth=10\n",
      "[06:58:31] INFO: /home/pedro/.cache/yay/xgboost-git/src/xgboost/src/tree/updater_prune.cc:101: tree pruning end, 210 extra nodes, 0 pruned nodes, max_depth=10\n",
      "[06:58:34] INFO: /home/pedro/.cache/yay/xgboost-git/src/xgboost/src/tree/updater_prune.cc:101: tree pruning end, 400 extra nodes, 0 pruned nodes, max_depth=10\n",
      "[06:58:38] INFO: /home/pedro/.cache/yay/xgboost-git/src/xgboost/src/tree/updater_prune.cc:101: tree pruning end, 262 extra nodes, 0 pruned nodes, max_depth=10\n",
      "[06:58:41] INFO: /home/pedro/.cache/yay/xgboost-git/src/xgboost/src/tree/updater_prune.cc:101: tree pruning end, 148 extra nodes, 0 pruned nodes, max_depth=10\n",
      "[06:58:44] INFO: /home/pedro/.cache/yay/xgboost-git/src/xgboost/src/tree/updater_prune.cc:101: tree pruning end, 122 extra nodes, 0 pruned nodes, max_depth=10\n",
      "[06:58:48] INFO: /home/pedro/.cache/yay/xgboost-git/src/xgboost/src/tree/updater_prune.cc:101: tree pruning end, 214 extra nodes, 0 pruned nodes, max_depth=10\n",
      "[06:58:51] INFO: /home/pedro/.cache/yay/xgboost-git/src/xgboost/src/tree/updater_prune.cc:101: tree pruning end, 254 extra nodes, 0 pruned nodes, max_depth=10\n",
      "[06:58:54] INFO: /home/pedro/.cache/yay/xgboost-git/src/xgboost/src/tree/updater_prune.cc:101: tree pruning end, 240 extra nodes, 0 pruned nodes, max_depth=10\n",
      "[06:58:58] INFO: /home/pedro/.cache/yay/xgboost-git/src/xgboost/src/tree/updater_prune.cc:101: tree pruning end, 284 extra nodes, 0 pruned nodes, max_depth=10\n",
      "[06:59:01] INFO: /home/pedro/.cache/yay/xgboost-git/src/xgboost/src/tree/updater_prune.cc:101: tree pruning end, 464 extra nodes, 0 pruned nodes, max_depth=10\n",
      "[06:59:04] INFO: /home/pedro/.cache/yay/xgboost-git/src/xgboost/src/tree/updater_prune.cc:101: tree pruning end, 262 extra nodes, 0 pruned nodes, max_depth=10\n",
      "[06:59:07] INFO: /home/pedro/.cache/yay/xgboost-git/src/xgboost/src/tree/updater_prune.cc:101: tree pruning end, 324 extra nodes, 0 pruned nodes, max_depth=10\n",
      "[06:59:11] INFO: /home/pedro/.cache/yay/xgboost-git/src/xgboost/src/tree/updater_prune.cc:101: tree pruning end, 120 extra nodes, 0 pruned nodes, max_depth=10\n",
      "[06:59:14] INFO: /home/pedro/.cache/yay/xgboost-git/src/xgboost/src/tree/updater_prune.cc:101: tree pruning end, 232 extra nodes, 0 pruned nodes, max_depth=10\n",
      "[06:59:17] INFO: /home/pedro/.cache/yay/xgboost-git/src/xgboost/src/tree/updater_prune.cc:101: tree pruning end, 240 extra nodes, 0 pruned nodes, max_depth=10\n",
      "[06:59:21] INFO: /home/pedro/.cache/yay/xgboost-git/src/xgboost/src/tree/updater_prune.cc:101: tree pruning end, 396 extra nodes, 0 pruned nodes, max_depth=10\n",
      "[06:59:25] INFO: /home/pedro/.cache/yay/xgboost-git/src/xgboost/src/tree/updater_prune.cc:101: tree pruning end, 224 extra nodes, 0 pruned nodes, max_depth=10\n",
      "[06:59:28] INFO: /home/pedro/.cache/yay/xgboost-git/src/xgboost/src/tree/updater_prune.cc:101: tree pruning end, 342 extra nodes, 0 pruned nodes, max_depth=10\n",
      "[06:59:31] INFO: /home/pedro/.cache/yay/xgboost-git/src/xgboost/src/tree/updater_prune.cc:101: tree pruning end, 224 extra nodes, 0 pruned nodes, max_depth=10\n",
      "[06:59:34] INFO: /home/pedro/.cache/yay/xgboost-git/src/xgboost/src/tree/updater_prune.cc:101: tree pruning end, 76 extra nodes, 0 pruned nodes, max_depth=10\n",
      "[06:59:37] INFO: /home/pedro/.cache/yay/xgboost-git/src/xgboost/src/tree/updater_prune.cc:101: tree pruning end, 140 extra nodes, 0 pruned nodes, max_depth=10\n",
      "[06:59:40] INFO: /home/pedro/.cache/yay/xgboost-git/src/xgboost/src/tree/updater_prune.cc:101: tree pruning end, 312 extra nodes, 0 pruned nodes, max_depth=10\n",
      "[06:59:43] INFO: /home/pedro/.cache/yay/xgboost-git/src/xgboost/src/tree/updater_prune.cc:101: tree pruning end, 338 extra nodes, 0 pruned nodes, max_depth=10\n",
      "[06:59:47] INFO: /home/pedro/.cache/yay/xgboost-git/src/xgboost/src/tree/updater_prune.cc:101: tree pruning end, 240 extra nodes, 0 pruned nodes, max_depth=10\n",
      "[06:59:50] INFO: /home/pedro/.cache/yay/xgboost-git/src/xgboost/src/tree/updater_prune.cc:101: tree pruning end, 256 extra nodes, 0 pruned nodes, max_depth=10\n",
      "[06:59:53] INFO: /home/pedro/.cache/yay/xgboost-git/src/xgboost/src/tree/updater_prune.cc:101: tree pruning end, 208 extra nodes, 0 pruned nodes, max_depth=10\n",
      "[06:59:56] INFO: /home/pedro/.cache/yay/xgboost-git/src/xgboost/src/tree/updater_prune.cc:101: tree pruning end, 266 extra nodes, 0 pruned nodes, max_depth=10\n",
      "[06:59:59] INFO: /home/pedro/.cache/yay/xgboost-git/src/xgboost/src/tree/updater_prune.cc:101: tree pruning end, 200 extra nodes, 0 pruned nodes, max_depth=10\n",
      "[07:00:02] INFO: /home/pedro/.cache/yay/xgboost-git/src/xgboost/src/tree/updater_prune.cc:101: tree pruning end, 292 extra nodes, 0 pruned nodes, max_depth=10\n",
      "[07:00:05] INFO: /home/pedro/.cache/yay/xgboost-git/src/xgboost/src/tree/updater_prune.cc:101: tree pruning end, 378 extra nodes, 0 pruned nodes, max_depth=10\n",
      "[07:00:08] INFO: /home/pedro/.cache/yay/xgboost-git/src/xgboost/src/tree/updater_prune.cc:101: tree pruning end, 268 extra nodes, 0 pruned nodes, max_depth=10\n",
      "[07:00:11] INFO: /home/pedro/.cache/yay/xgboost-git/src/xgboost/src/tree/updater_prune.cc:101: tree pruning end, 434 extra nodes, 0 pruned nodes, max_depth=10\n",
      "[07:00:15] INFO: /home/pedro/.cache/yay/xgboost-git/src/xgboost/src/tree/updater_prune.cc:101: tree pruning end, 268 extra nodes, 0 pruned nodes, max_depth=10\n",
      "[07:00:18] INFO: /home/pedro/.cache/yay/xgboost-git/src/xgboost/src/tree/updater_prune.cc:101: tree pruning end, 268 extra nodes, 0 pruned nodes, max_depth=10\n",
      "[07:00:21] INFO: /home/pedro/.cache/yay/xgboost-git/src/xgboost/src/tree/updater_prune.cc:101: tree pruning end, 148 extra nodes, 0 pruned nodes, max_depth=10\n",
      "[07:00:24] INFO: /home/pedro/.cache/yay/xgboost-git/src/xgboost/src/tree/updater_prune.cc:101: tree pruning end, 458 extra nodes, 0 pruned nodes, max_depth=10\n",
      "[07:00:27] INFO: /home/pedro/.cache/yay/xgboost-git/src/xgboost/src/tree/updater_prune.cc:101: tree pruning end, 310 extra nodes, 0 pruned nodes, max_depth=10\n",
      "[07:00:30] INFO: /home/pedro/.cache/yay/xgboost-git/src/xgboost/src/tree/updater_prune.cc:101: tree pruning end, 178 extra nodes, 0 pruned nodes, max_depth=10\n",
      "[07:00:33] INFO: /home/pedro/.cache/yay/xgboost-git/src/xgboost/src/tree/updater_prune.cc:101: tree pruning end, 230 extra nodes, 0 pruned nodes, max_depth=10\n",
      "[07:00:36] INFO: /home/pedro/.cache/yay/xgboost-git/src/xgboost/src/tree/updater_prune.cc:101: tree pruning end, 230 extra nodes, 0 pruned nodes, max_depth=10\n",
      "[07:00:39] INFO: /home/pedro/.cache/yay/xgboost-git/src/xgboost/src/tree/updater_prune.cc:101: tree pruning end, 292 extra nodes, 0 pruned nodes, max_depth=10\n",
      "[07:00:42] INFO: /home/pedro/.cache/yay/xgboost-git/src/xgboost/src/tree/updater_prune.cc:101: tree pruning end, 284 extra nodes, 0 pruned nodes, max_depth=10\n",
      "[07:00:45] INFO: /home/pedro/.cache/yay/xgboost-git/src/xgboost/src/tree/updater_prune.cc:101: tree pruning end, 248 extra nodes, 0 pruned nodes, max_depth=10\n",
      "[07:00:48] INFO: /home/pedro/.cache/yay/xgboost-git/src/xgboost/src/tree/updater_prune.cc:101: tree pruning end, 158 extra nodes, 0 pruned nodes, max_depth=10\n",
      "[07:00:51] INFO: /home/pedro/.cache/yay/xgboost-git/src/xgboost/src/tree/updater_prune.cc:101: tree pruning end, 292 extra nodes, 0 pruned nodes, max_depth=10\n",
      "[07:00:54] INFO: /home/pedro/.cache/yay/xgboost-git/src/xgboost/src/tree/updater_prune.cc:101: tree pruning end, 346 extra nodes, 0 pruned nodes, max_depth=10\n",
      "[07:00:58] INFO: /home/pedro/.cache/yay/xgboost-git/src/xgboost/src/tree/updater_prune.cc:101: tree pruning end, 332 extra nodes, 0 pruned nodes, max_depth=10\n",
      "[07:01:01] INFO: /home/pedro/.cache/yay/xgboost-git/src/xgboost/src/tree/updater_prune.cc:101: tree pruning end, 416 extra nodes, 0 pruned nodes, max_depth=10\n",
      "[07:01:04] INFO: /home/pedro/.cache/yay/xgboost-git/src/xgboost/src/tree/updater_prune.cc:101: tree pruning end, 198 extra nodes, 0 pruned nodes, max_depth=10\n",
      "[07:01:07] INFO: /home/pedro/.cache/yay/xgboost-git/src/xgboost/src/tree/updater_prune.cc:101: tree pruning end, 500 extra nodes, 0 pruned nodes, max_depth=10\n",
      "[07:01:10] INFO: /home/pedro/.cache/yay/xgboost-git/src/xgboost/src/tree/updater_prune.cc:101: tree pruning end, 186 extra nodes, 0 pruned nodes, max_depth=10\n",
      "[07:01:13] INFO: /home/pedro/.cache/yay/xgboost-git/src/xgboost/src/tree/updater_prune.cc:101: tree pruning end, 180 extra nodes, 0 pruned nodes, max_depth=10\n",
      "[07:01:16] INFO: /home/pedro/.cache/yay/xgboost-git/src/xgboost/src/tree/updater_prune.cc:101: tree pruning end, 160 extra nodes, 0 pruned nodes, max_depth=10\n",
      "[07:01:19] INFO: /home/pedro/.cache/yay/xgboost-git/src/xgboost/src/tree/updater_prune.cc:101: tree pruning end, 150 extra nodes, 0 pruned nodes, max_depth=10\n",
      "[07:01:22] INFO: /home/pedro/.cache/yay/xgboost-git/src/xgboost/src/tree/updater_prune.cc:101: tree pruning end, 362 extra nodes, 0 pruned nodes, max_depth=10\n",
      "[07:01:25] INFO: /home/pedro/.cache/yay/xgboost-git/src/xgboost/src/tree/updater_prune.cc:101: tree pruning end, 252 extra nodes, 0 pruned nodes, max_depth=10\n",
      "[07:01:28] INFO: /home/pedro/.cache/yay/xgboost-git/src/xgboost/src/tree/updater_prune.cc:101: tree pruning end, 136 extra nodes, 0 pruned nodes, max_depth=10\n",
      "[07:01:31] INFO: /home/pedro/.cache/yay/xgboost-git/src/xgboost/src/tree/updater_prune.cc:101: tree pruning end, 260 extra nodes, 0 pruned nodes, max_depth=10\n",
      "[07:01:34] INFO: /home/pedro/.cache/yay/xgboost-git/src/xgboost/src/tree/updater_prune.cc:101: tree pruning end, 74 extra nodes, 0 pruned nodes, max_depth=10\n",
      "[07:01:37] INFO: /home/pedro/.cache/yay/xgboost-git/src/xgboost/src/tree/updater_prune.cc:101: tree pruning end, 196 extra nodes, 0 pruned nodes, max_depth=10\n",
      "[07:01:40] INFO: /home/pedro/.cache/yay/xgboost-git/src/xgboost/src/tree/updater_prune.cc:101: tree pruning end, 186 extra nodes, 0 pruned nodes, max_depth=10\n",
      "[07:01:44] INFO: /home/pedro/.cache/yay/xgboost-git/src/xgboost/src/tree/updater_prune.cc:101: tree pruning end, 320 extra nodes, 0 pruned nodes, max_depth=10\n",
      "[07:01:47] INFO: /home/pedro/.cache/yay/xgboost-git/src/xgboost/src/tree/updater_prune.cc:101: tree pruning end, 300 extra nodes, 0 pruned nodes, max_depth=10\n",
      "[07:01:50] INFO: /home/pedro/.cache/yay/xgboost-git/src/xgboost/src/tree/updater_prune.cc:101: tree pruning end, 272 extra nodes, 0 pruned nodes, max_depth=10\n",
      "[07:01:53] INFO: /home/pedro/.cache/yay/xgboost-git/src/xgboost/src/tree/updater_prune.cc:101: tree pruning end, 460 extra nodes, 0 pruned nodes, max_depth=10\n",
      "[07:01:56] INFO: /home/pedro/.cache/yay/xgboost-git/src/xgboost/src/tree/updater_prune.cc:101: tree pruning end, 228 extra nodes, 0 pruned nodes, max_depth=10\n",
      "[07:01:59] INFO: /home/pedro/.cache/yay/xgboost-git/src/xgboost/src/tree/updater_prune.cc:101: tree pruning end, 462 extra nodes, 0 pruned nodes, max_depth=10\n",
      "[07:02:02] INFO: /home/pedro/.cache/yay/xgboost-git/src/xgboost/src/tree/updater_prune.cc:101: tree pruning end, 392 extra nodes, 0 pruned nodes, max_depth=10\n",
      "[07:02:05] INFO: /home/pedro/.cache/yay/xgboost-git/src/xgboost/src/tree/updater_prune.cc:101: tree pruning end, 284 extra nodes, 0 pruned nodes, max_depth=10\n",
      "[07:02:08] INFO: /home/pedro/.cache/yay/xgboost-git/src/xgboost/src/tree/updater_prune.cc:101: tree pruning end, 258 extra nodes, 0 pruned nodes, max_depth=10\n",
      "[07:02:11] INFO: /home/pedro/.cache/yay/xgboost-git/src/xgboost/src/tree/updater_prune.cc:101: tree pruning end, 456 extra nodes, 0 pruned nodes, max_depth=10\n",
      "[07:02:14] INFO: /home/pedro/.cache/yay/xgboost-git/src/xgboost/src/tree/updater_prune.cc:101: tree pruning end, 282 extra nodes, 0 pruned nodes, max_depth=10\n",
      "[07:02:17] INFO: /home/pedro/.cache/yay/xgboost-git/src/xgboost/src/tree/updater_prune.cc:101: tree pruning end, 422 extra nodes, 0 pruned nodes, max_depth=10\n",
      "[07:02:20] INFO: /home/pedro/.cache/yay/xgboost-git/src/xgboost/src/tree/updater_prune.cc:101: tree pruning end, 212 extra nodes, 0 pruned nodes, max_depth=10\n",
      "[07:02:23] INFO: /home/pedro/.cache/yay/xgboost-git/src/xgboost/src/tree/updater_prune.cc:101: tree pruning end, 338 extra nodes, 0 pruned nodes, max_depth=10\n",
      "[07:02:27] INFO: /home/pedro/.cache/yay/xgboost-git/src/xgboost/src/tree/updater_prune.cc:101: tree pruning end, 562 extra nodes, 0 pruned nodes, max_depth=10\n",
      "[07:02:30] INFO: /home/pedro/.cache/yay/xgboost-git/src/xgboost/src/tree/updater_prune.cc:101: tree pruning end, 230 extra nodes, 0 pruned nodes, max_depth=10\n",
      "[07:02:30] ======== Monitor: Learner ========\n",
      "[07:02:30] Configure: 0.000255s, 1 calls @ 255us\n",
      "\n",
      "[07:02:30] EvalOneIter: 0.000586s, 90 calls @ 586us\n",
      "\n",
      "[07:02:30] GetGradient: 0.069948s, 90 calls @ 69948us\n",
      "\n",
      "[07:02:30] PredictRaw: 36.5463s, 90 calls @ 36546313us\n",
      "\n",
      "[07:02:30] UpdateOneIter: 292.818s, 90 calls @ 292818190us\n",
      "\n",
      "[07:02:30] ======== Monitor: GBTree ========\n",
      "[07:02:30] BoostNewTrees: 256.2s, 90 calls @ 256199576us\n",
      "\n",
      "[07:02:30] CommitModel: 0.000107s, 90 calls @ 107us\n",
      "\n",
      "[07:02:30] ======== Monitor: TreePruner ========\n",
      "[07:02:30] PrunerUpdate: 0.042383s, 90 calls @ 42383us\n",
      "\n"
     ]
    },
    {
     "data": {
      "text/plain": [
       "Pipeline(steps=[('standardscaler', StandardScaler()),\n",
       "                ('xgbclassifier',\n",
       "                 XGBClassifier(base_score=0.5, booster='gbtree',\n",
       "                               colsample_bylevel=1, colsample_bynode=1,\n",
       "                               colsample_bytree=1, gamma=0, gpu_id=-1,\n",
       "                               importance_type='gain',\n",
       "                               interaction_constraints='',\n",
       "                               learning_rate=0.300000012, max_delta_step=0,\n",
       "                               max_depth=10, min_child_weight=1, missing=nan,\n",
       "                               monotone_constraints='()', n_estimators=90,\n",
       "                               n_jobs=-1, num_parallel_tree=1, random_state=0,\n",
       "                               reg_alpha=0, reg_lambda=1, scale_pos_weight=1,\n",
       "                               subsample=1, tree_method='exact',\n",
       "                               validate_parameters=1, verbosity=3))])"
      ]
     },
     "execution_count": 10,
     "metadata": {},
     "output_type": "execute_result"
    }
   ],
   "source": [
    "xgb = make_pipeline(StandardScaler(), XGBClassifier(n_estimators=90, n_jobs=-1, max_depth=10, verbosity=3))\n",
    "xgb.fit(Xtr, Ytr)"
   ]
  },
  {
   "cell_type": "code",
   "execution_count": 12,
   "id": "authentic-european",
   "metadata": {},
   "outputs": [
    {
     "name": "stderr",
     "output_type": "stream",
     "text": [
      "/usr/lib/python3.9/site-packages/xgboost/data.py:112: UserWarning: Use subset (sliced data) of np.ndarray is not recommended because it will generate extra copies and increase memory consumption\n",
      "  warnings.warn(\n"
     ]
    },
    {
     "data": {
      "text/plain": [
       "['models/XGBoost_90est_10maxdepth.pkl']"
      ]
     },
     "execution_count": 12,
     "metadata": {},
     "output_type": "execute_result"
    },
    {
     "data": {
      "image/png": "[encoded data removed]",
      "text/plain": [
       "<Figure size 432x288 with 1 Axes>"
      ]
     },
     "metadata": {
      "needs_background": "light"
     },
     "output_type": "display_data"
    }
   ],
   "source": [
    "plot_roc_curve(xgb, Xts, Yts)\n",
    "joblib.dump(xgb, 'models/XGBoost_90est_10maxdepth.pkl')"
   ]
  }
 ],
 "metadata": {
  "kernelspec": {
   "display_name": "Python 3",
   "language": "python",
   "name": "python3"
  },
  "language_info": {
   "codemirror_mode": {
    "name": "ipython",
    "version": 3
   },
   "file_extension": ".py",
   "mimetype": "text/x-python",
   "name": "python",
   "nbconvert_exporter": "python",
   "pygments_lexer": "ipython3",
   "version": "3.9.2"
  }
 },
 "nbformat": 4,
 "nbformat_minor": 5
}
