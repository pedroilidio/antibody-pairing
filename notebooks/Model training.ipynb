{
 "cells": [
  {
   "cell_type": "code",
   "execution_count": 61,
   "id": "maritime-florist",
   "metadata": {},
   "outputs": [],
   "source": [
    "from importlib import reload\n",
    "import tensorflow as tf\n",
    "import pandas as pd\n",
    "import numpy as np\n",
    "import sys\n",
    "import joblib\n",
    "from sklearn.model_selection import train_test_split, cross_val_score\n",
    "from sklearn.metrics import plot_roc_curve"
   ]
  },
  {
   "cell_type": "code",
   "execution_count": 26,
   "id": "major-lafayette",
   "metadata": {},
   "outputs": [],
   "source": [
    "from sklearn.neural_network import MLPClassifier\n",
    "from sklearn.neighbors import KNeighborsClassifier\n",
    "from sklearn.preprocessing import StandardScaler\n",
    "from sklearn.pipeline import make_pipeline\n",
    "from sklearn.ensemble import RandomForestClassifier\n",
    "from sklearn.svm import SVC"
   ]
  },
  {
   "cell_type": "code",
   "execution_count": 15,
   "id": "hydraulic-participant",
   "metadata": {},
   "outputs": [],
   "source": [
    "X = pd.read_csv('train_data/train.csv.zip')\n",
    "print(f'Dataset is {sys.getsizeof(X)/10**9} GB.')"
   ]
  },
  {
   "cell_type": "code",
   "execution_count": 40,
   "id": "stable-validation",
   "metadata": {},
   "outputs": [],
   "source": [
    "Y = np.zeros(X.shape[0])\n",
    "Y[:Y.size//2] = 1"
   ]
  },
  {
   "cell_type": "code",
   "execution_count": 21,
   "id": "occupational-arcade",
   "metadata": {},
   "outputs": [],
   "source": [
    "targets = pd.Series(Y)\n",
    "targets.name = 'target'\n",
    "targets.to_csv('train_data/targets.csv', index=False)\n",
    "targets"
   ]
  },
  {
   "cell_type": "code",
   "execution_count": 45,
   "id": "subjective-selection",
   "metadata": {
    "tags": []
   },
   "outputs": [],
   "source": [
    "Xtr, Xts, Ytr, Yts = train_test_split(X, Y, test_size=.1,\n",
    "                                      random_state=42)"
   ]
  },
  {
   "cell_type": "code",
   "execution_count": 46,
   "id": "owned-chest",
   "metadata": {
    "tags": []
   },
   "outputs": [
    {
     "name": "stderr",
     "output_type": "stream",
     "text": [
      "[Parallel(n_jobs=-1)]: Using backend ThreadingBackend with 80 concurrent workers.\n"
     ]
    },
    {
     "name": "stdout",
     "output_type": "stream",
     "text": [
      "building tree 1 of 100\n",
      "building tree 2 of 100\n",
      "building tree 3 of 100\n",
      "building tree 4 of 100\n",
      "building tree 5 of 100\n",
      "building tree 6 of 100building tree 7 of 100\n",
      "building tree 8 of 100\n",
      "building tree 9 of 100\n",
      "\n",
      "building tree 10 of 100\n",
      "building tree 11 of 100\n",
      "building tree 12 of 100\n",
      "building tree 13 of 100\n",
      "building tree 14 of 100\n",
      "building tree 15 of 100\n",
      "building tree 16 of 100\n",
      "building tree 17 of 100\n",
      "building tree 18 of 100building tree 19 of 100\n",
      "\n",
      "building tree 20 of 100\n",
      "building tree 21 of 100\n",
      "building tree 22 of 100\n",
      "building tree 23 of 100building tree 24 of 100\n",
      "building tree 25 of 100\n",
      "\n",
      "building tree 26 of 100\n",
      "building tree 27 of 100\n",
      "building tree 28 of 100\n",
      "building tree 29 of 100\n",
      "building tree 30 of 100\n",
      "building tree 31 of 100\n",
      "building tree 32 of 100\n",
      "building tree 33 of 100\n",
      "building tree 34 of 100\n",
      "building tree 35 of 100\n",
      "building tree 36 of 100\n",
      "building tree 37 of 100\n",
      "building tree 38 of 100\n",
      "building tree 39 of 100\n",
      "building tree 40 of 100\n",
      "building tree 41 of 100\n",
      "building tree 42 of 100\n",
      "building tree 43 of 100\n",
      "building tree 44 of 100\n",
      "building tree 45 of 100\n",
      "building tree 46 of 100\n",
      "building tree 47 of 100\n",
      "building tree 48 of 100\n",
      "building tree 49 of 100\n",
      "building tree 50 of 100\n",
      "building tree 51 of 100\n",
      "building tree 52 of 100\n",
      "building tree 53 of 100\n",
      "building tree 54 of 100\n",
      "building tree 55 of 100\n",
      "building tree 56 of 100\n",
      "building tree 57 of 100\n",
      "building tree 58 of 100\n",
      "building tree 59 of 100\n",
      "building tree 60 of 100\n",
      "building tree 61 of 100\n",
      "building tree 62 of 100\n",
      "building tree 63 of 100\n",
      "building tree 64 of 100\n",
      "building tree 65 of 100\n",
      "building tree 66 of 100\n",
      "building tree 67 of 100\n",
      "building tree 68 of 100\n",
      "building tree 69 of 100\n",
      "building tree 70 of 100\n",
      "building tree 71 of 100\n",
      "building tree 72 of 100\n",
      "building tree 73 of 100\n",
      "building tree 74 of 100\n",
      "building tree 75 of 100\n",
      "building tree 76 of 100\n",
      "building tree 77 of 100\n",
      "building tree 78 of 100\n",
      "building tree 79 of 100\n",
      "building tree 80 of 100\n",
      "building tree 81 of 100\n",
      "building tree 82 of 100\n",
      "building tree 83 of 100\n",
      "building tree 84 of 100\n",
      "building tree 85 of 100\n",
      "building tree 86 of 100\n",
      "building tree 87 of 100\n",
      "building tree 88 of 100\n",
      "building tree 89 of 100\n",
      "building tree 90 of 100\n",
      "building tree 91 of 100\n",
      "building tree 92 of 100\n",
      "building tree 93 of 100\n",
      "building tree 94 of 100\n",
      "building tree 95 of 100\n",
      "building tree 96 of 100\n",
      "building tree 97 of 100\n",
      "building tree 98 of 100\n",
      "building tree 99 of 100\n",
      "building tree 100 of 100\n"
     ]
    },
    {
     "name": "stderr",
     "output_type": "stream",
     "text": [
      "[Parallel(n_jobs=-1)]: Done  43 out of 100 | elapsed:   23.2s remaining:   30.8s\n",
      "[Parallel(n_jobs=-1)]: Done  94 out of 100 | elapsed:   28.8s remaining:    1.8s\n",
      "[Parallel(n_jobs=-1)]: Done 100 out of 100 | elapsed:   30.4s finished\n"
     ]
    },
    {
     "data": {
      "text/plain": [
       "RandomForestClassifier(max_depth=30, n_jobs=-1, random_state=42, verbose=2)"
      ]
     },
     "execution_count": 46,
     "metadata": {},
     "output_type": "execute_result"
    }
   ],
   "source": [
    "#classifier = make_pipeline(StandardScaler(), MLPClassifier(verbose=True))\n",
    "classifier = RandomForestClassifier(n_estimators=100, max_depth=30, verbose=2, n_jobs=-1, random_state=42)\n",
    "classifier.fit(Xtr, Ytr)"
   ]
  },
  {
   "cell_type": "code",
   "execution_count": 50,
   "id": "about-humor",
   "metadata": {},
   "outputs": [
    {
     "name": "stderr",
     "output_type": "stream",
     "text": [
      "[Parallel(n_jobs=80)]: Using backend ThreadingBackend with 80 concurrent workers.\n",
      "[Parallel(n_jobs=80)]: Done  43 out of 100 | elapsed:    0.1s remaining:    0.1s\n",
      "[Parallel(n_jobs=80)]: Done  94 out of 100 | elapsed:    0.1s remaining:    0.0s\n",
      "[Parallel(n_jobs=80)]: Done 100 out of 100 | elapsed:    0.1s finished\n"
     ]
    },
    {
     "data": {
      "text/plain": [
       "<sklearn.metrics._plot.roc_curve.RocCurveDisplay at 0x7fcd0831a070>"
      ]
     },
     "execution_count": 50,
     "metadata": {},
     "output_type": "execute_result"
    },
    {
     "data": {
      "image/png": "[encoded data removed]",
      "text/plain": [
       "<Figure size 432x288 with 1 Axes>"
      ]
     },
     "metadata": {
      "needs_background": "light"
     },
     "output_type": "display_data"
    }
   ],
   "source": [
    "plot_roc_curve(classifier, Xts, Yts)"
   ]
  },
  {
   "cell_type": "code",
   "execution_count": 49,
   "id": "handed-biodiversity",
   "metadata": {},
   "outputs": [
    {
     "name": "stderr",
     "output_type": "stream",
     "text": [
      "[Parallel(n_jobs=80)]: Using backend ThreadingBackend with 80 concurrent workers.\n",
      "[Parallel(n_jobs=80)]: Done  43 out of 100 | elapsed:    0.1s remaining:    0.1s\n",
      "[Parallel(n_jobs=80)]: Done  94 out of 100 | elapsed:    0.1s remaining:    0.0s\n",
      "[Parallel(n_jobs=80)]: Done 100 out of 100 | elapsed:    0.1s finished\n"
     ]
    },
    {
     "data": {
      "text/plain": [
       "<sklearn.metrics._plot.roc_curve.RocCurveDisplay at 0x7fcd0820a670>"
      ]
     },
     "execution_count": 49,
     "metadata": {},
     "output_type": "execute_result"
    },
    {
     "data": {
      "image/png": "[encoded data removed]",
      "text/plain": [
       "<Figure size 432x288 with 1 Axes>"
      ]
     },
     "metadata": {
      "needs_background": "light"
     },
     "output_type": "display_data"
    }
   ],
   "source": [
    "Ytsr = Yts.copy()\n",
    "np.random.shuffle(Ytsr)\n",
    "plot_roc_curve(classifier, Xts, Ytsr)"
   ]
  },
  {
   "cell_type": "code",
   "execution_count": 51,
   "id": "organized-quest",
   "metadata": {},
   "outputs": [
    {
     "name": "stderr",
     "output_type": "stream",
     "text": [
      "[Parallel(n_jobs=80)]: Using backend ThreadingBackend with 80 concurrent workers.\n",
      "[Parallel(n_jobs=80)]: Done  43 out of 100 | elapsed:    0.1s remaining:    0.1s\n",
      "[Parallel(n_jobs=80)]: Done  94 out of 100 | elapsed:    0.1s remaining:    0.0s\n",
      "[Parallel(n_jobs=80)]: Done 100 out of 100 | elapsed:    0.1s finished\n"
     ]
    }
   ],
   "source": [
    "Yp = classifier.predict_proba(Xts)"
   ]
  },
  {
   "cell_type": "code",
   "execution_count": 54,
   "id": "guided-dress",
   "metadata": {},
   "outputs": [],
   "source": [
    "guess = (1-Yp[:,0] + Yp[:,1]) / 2"
   ]
  },
  {
   "cell_type": "code",
   "execution_count": 60,
   "id": "charged-soundtrack",
   "metadata": {},
   "outputs": [
    {
     "data": {
      "text/plain": [
       "(array([[1., 1., 1., ..., 1., 0., 0.],\n",
       "        [0., 1., 1., ..., 1., 1., 0.],\n",
       "        [0., 1., 0., ..., 1., 0., 1.],\n",
       "        [0., 0., 1., ..., 1., 0., 0.],\n",
       "        [0., 1., 1., ..., 0., 0., 0.]]),\n",
       " array([[0., 0., 0., ..., 0., 1., 1.],\n",
       "        [1., 1., 0., ..., 0., 0., 1.],\n",
       "        [1., 0., 1., ..., 0., 1., 0.],\n",
       "        [1., 1., 1., ..., 0., 1., 1.],\n",
       "        [1., 0., 0., ..., 1., 1., 1.]]))"
      ]
     },
     "execution_count": 60,
     "metadata": {},
     "output_type": "execute_result"
    }
   ],
   "source": [
    "Yts.reshape(5, -1), guess.round().reshape(5, -1)"
   ]
  },
  {
   "cell_type": "markdown",
   "id": "tough-finland",
   "metadata": {},
   "source": [
    "### Save model"
   ]
  },
  {
   "cell_type": "code",
   "execution_count": 64,
   "id": "minor-mentor",
   "metadata": {
    "tags": []
   },
   "outputs": [],
   "source": [
    "classifier = RandomForestClassifier(n_estimators=90, max_depth=30, verbose=2, n_jobs=-1, random_state=42)\n",
    "classifier.fit(X, Y)"
   ]
  },
  {
   "cell_type": "code",
   "execution_count": 65,
   "id": "postal-ethernet",
   "metadata": {
    "tags": []
   },
   "outputs": [
    {
     "data": {
      "text/plain": [
       "['models/RandomForest_100est_30depth.pkl']"
      ]
     },
     "execution_count": 65,
     "metadata": {},
     "output_type": "execute_result"
    }
   ],
   "source": [
    "joblib.dump(classifier, 'models/RandomForest_100est_30depth.pkl')"
   ]
  }
 ],
 "metadata": {
  "kernelspec": {
   "display_name": "Python 3",
   "language": "python",
   "name": "python3"
  },
  "language_info": {
   "codemirror_mode": {
    "name": "ipython",
    "version": 3
   },
   "file_extension": ".py",
   "mimetype": "text/x-python",
   "name": "python",
   "nbconvert_exporter": "python",
   "pygments_lexer": "ipython3",
   "version": "3.9.2"
  }
 },
 "nbformat": 4,
 "nbformat_minor": 5
}
