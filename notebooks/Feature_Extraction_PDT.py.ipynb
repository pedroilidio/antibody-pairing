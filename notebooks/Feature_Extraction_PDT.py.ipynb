{
 "cells": [
  {
   "cell_type": "code",
   "execution_count": 1,
   "metadata": {},
   "outputs": [],
   "source": [
    "import pandas as pd\n",
    "from glob import glob\n",
    "import numpy as np\n",
    "from Bio.Seq import Seq\n",
    "from Bio.SeqRecord import SeqRecord\n",
    "from Bio import SeqIO\n",
    "import os"
   ]
  },
  {
   "cell_type": "code",
   "execution_count": 5,
   "metadata": {},
   "outputs": [
    {
     "name": "stderr",
     "output_type": "stream",
     "text": [
      "/home/lenovo/miniconda3/lib/python3.7/site-packages/IPython/core/interactiveshell.py:3147: DtypeWarning: Columns (11,118,133,149,150,151,152,177,211) have mixed types.Specify dtype option on import or set low_memory=False.\n",
      "  interactivity=interactivity, compiler=compiler, result=result)\n"
     ]
    }
   ],
   "source": [
    "data = pd.read_csv('mydata.csv')\n",
    "new_data = data[['sequence_alignment_aa_heavy', 'sequence_alignment_aa_light']]\n",
    "result_df = new_data.drop_duplicates(subset=['sequence_alignment_aa_heavy', 'sequence_alignment_aa_light'])"
   ]
  },
  {
   "cell_type": "markdown",
   "metadata": {},
   "source": [
    "Builds Fasta files to process data"
   ]
  },
  {
   "cell_type": "code",
   "execution_count": 7,
   "metadata": {},
   "outputs": [
    {
     "data": {
      "text/plain": [
       "109700"
      ]
     },
     "execution_count": 7,
     "metadata": {},
     "output_type": "execute_result"
    }
   ],
   "source": [
    "records = []\n",
    "i = 1\n",
    "for seq in result_df['sequence_alignment_aa_heavy']:\n",
    "    records.append(SeqRecord(Seq(seq),id = 'sequence #' + str(i),description = 'Heavy'))\n",
    "    i += 1\n",
    "SeqIO.write(records, \"fasta_heavy.fa\", \"fasta\")"
   ]
  },
  {
   "cell_type": "code",
   "execution_count": 8,
   "metadata": {},
   "outputs": [
    {
     "data": {
      "text/plain": [
       "109700"
      ]
     },
     "execution_count": 8,
     "metadata": {},
     "output_type": "execute_result"
    }
   ],
   "source": [
    "records = []\n",
    "i = 1\n",
    "for seq in result_df['sequence_alignment_aa_light']:\n",
    "    records.append(SeqRecord(Seq(seq),id = 'sequence #' + str(i),description = 'Light'))\n",
    "    i += 1\n",
    "SeqIO.write(records, \"fasta_light.fa\", \"fasta\")"
   ]
  },
  {
   "cell_type": "code",
   "execution_count": null,
   "metadata": {},
   "outputs": [],
   "source": [
    "os.system(\"python2 acc.py fasta_heavy.fa Protein ACC -out fasta_heavy_ACC.out\")\n",
    "os.system(\"python2 acc.py fasta_light.fa Protein ACC -out fasta_light_ACC.out\")\n",
    "os.system(\"python2 acc.py fasta_heavy.fa Protein PDT -out fasta_heavy_PDT.out\")\n",
    "os.system(\"python2 acc.py fasta_light.fa Protein PDT -out fasta_light_PDT.out\")"
   ]
  },
  {
   "cell_type": "code",
   "execution_count": 2,
   "metadata": {},
   "outputs": [],
   "source": [
    "ACC_heavy = pd.read_csv(\"fasta_heavy_ACC.out\",sep = '\\t', header = None)\n",
    "ACC_light = pd.read_csv(\"fasta_light_ACC.out\",sep = '\\t', header = None)\n",
    "PDT_heavy = pd.read_csv(\"fasta_heavy_PDT.out\",sep = '\\t', header = None)\n",
    "PDT_light = pd.read_csv(\"fasta_light_PDT.out\",sep = '\\t', header = None)"
   ]
  },
  {
   "cell_type": "code",
   "execution_count": 3,
   "metadata": {},
   "outputs": [],
   "source": [
    "d = {}\n",
    "for i in range(len(ACC_heavy.iloc[0])):\n",
    "    d[i] = 'ACC_heavy_' + str(i)\n",
    "ACC_heavy = ACC_heavy.rename(columns = d, inplace = False)\n",
    "\n",
    "d = {}\n",
    "for i in range(len(ACC_light.iloc[0])):\n",
    "    d[i] = 'ACC_light_' + str(i)\n",
    "ACC_light = ACC_light.rename(columns = d, inplace = False)\n",
    "\n",
    "d = {}\n",
    "for i in range(len(PDT_heavy.iloc[0])):\n",
    "    d[i] = 'PDT_heavy_' + str(i)\n",
    "PDT_heavy = PDT_heavy.rename(columns = d, inplace = False)\n",
    "\n",
    "d = {}\n",
    "for i in range(len(PDT_light.iloc[0])):\n",
    "    d[i] = 'PDT_light_' + str(i)\n",
    "PDT_light = PDT_light.rename(columns = d, inplace = False)"
   ]
  },
  {
   "cell_type": "code",
   "execution_count": 19,
   "metadata": {},
   "outputs": [
    {
     "data": {
      "text/plain": [
       "0         QVQLQESGPGLVKPSETLSLTCAVSGYSISSGYYWGWIRQPPGKGL...\n",
       "1         EVQLVESGGGLVKPGGSLRLSCAASGFTFSSYSMNWVRQAPGKGLE...\n",
       "2         QESGPGLVKPSGTLSLMCSVSGHYISGGFFWGWVRQPPGKGLEWIG...\n",
       "3         QVHLVQSGADVKKPGASVKVSCKASGYNFASHSIHWIRQAPGQGLE...\n",
       "4         QVQLQQWGAGLLKPSETLSLTCAVYGGSFSGYYWSWIRQPPGKGLE...\n",
       "                                ...                        \n",
       "109695    EVQLVETGGGLVQPGKSLKLTCATSGFTFSNAWMDWVRQSPEKQLE...\n",
       "109696    EVQLQQSGPEVGRPGSSVKISCKASGYTFTDYVMNWVKQSPGQGLE...\n",
       "109697    EVQLVESGGGLVQPGRSMKLSCAASGFTFSNYGMAWVRQAPTKGLE...\n",
       "109698    AVQLVESGGGLVQPKESLKISCAASGFTFSNAAMYWVRQAPGKGLE...\n",
       "109699    EVQLQESGPGLVKPSQSLSLTCSVTGYSITSNYWGWIRKFPGNKME...\n",
       "Name: sequence_alignment_aa_heavy, Length: 109700, dtype: object"
      ]
     },
     "execution_count": 19,
     "metadata": {},
     "output_type": "execute_result"
    }
   ],
   "source": [
    "Heavy_Partial = result_df['sequence_alignment_aa_heavy']\n",
    "Heavy_Partial.index = ACC_heavy.index\n",
    "Heavy_Partial"
   ]
  },
  {
   "cell_type": "code",
   "execution_count": 6,
   "metadata": {},
   "outputs": [],
   "source": [
    "Heavy_Sequence = result_df['sequence_alignment_aa_heavy']\n",
    "Heavy_Sequence.index = ACC_heavy.index\n",
    "Light_Sequence = result_df['sequence_alignment_aa_light']\n",
    "Light_Sequence.index = ACC_light.index\n",
    "\n",
    "Heavy_Partial = pd.DataFrame()\n",
    "Light_Partial = pd.DataFrame()\n",
    "Heavy_Partial['Heavy_Length'] = Heavy_Sequence.str.len()\n",
    "Light_Partial['Light_Length'] = Light_Sequence.str.len()\n",
    "\n",
    "Heavy_Partial['Heavy_SmallNonpolar'] = Heavy_Sequence.str.count('[GAST]')\n",
    "\n",
    "Light_Partial['Light_SmallNonpolar'] = Light_Sequence.str.count('[GAST]')\n",
    "\n",
    "Heavy_Partial['Heavy_Hydrophobic'] = Heavy_Sequence.str.count('[CVILPFYMW]')\n",
    "\n",
    "Light_Partial['Light_Hydrophobic'] = Light_Sequence.str.count('[CVILPFYMW]')\n",
    "\n",
    "Heavy_Partial['Heavy_Polar'] = Heavy_Sequence.str.count('[NQH]')\n",
    "\n",
    "Light_Partial['Light_Polar'] = Light_Sequence.str.count('[NQH]')\n",
    "\n",
    "Heavy_Partial['Heavy_Negative'] = Heavy_Sequence.str.count('[DE]')\n",
    "\n",
    "Light_Partial['Light_Negative'] = Light_Sequence.str.count('[DE]')\n",
    "\n",
    "Heavy_Partial['Heavy_Positive'] = Heavy_Sequence.str.count('[KR]')\n",
    "\n",
    "Light_Partial['Light_Positive'] = Light_Sequence.str.count('[KR]')\n",
    "\n",
    "Heavy_Partial['Heavy_Cystein'] =  Heavy_Sequence.str.count('C') \n",
    "\n",
    "Light_Partial['Light_Cystein'] =  Light_Sequence.str.count('C') \n",
    "\n",
    "Heavy_Partial = pd.concat([Heavy_Partial, ACC_heavy],\n",
    "                           axis=1)\n",
    "Light_Partial = pd.concat([Light_Partial, ACC_light],\n",
    "                           axis=1)\n",
    "Heavy_Partial = pd.concat([Heavy_Partial, PDT_heavy],\n",
    "                           axis=1)\n",
    "Light_Partial = pd.concat([Light_Partial, PDT_light],\n",
    "                           axis=1)"
   ]
  },
  {
   "cell_type": "code",
   "execution_count": 7,
   "metadata": {},
   "outputs": [],
   "source": [
    "compression_opts = dict(method='zip',archive_name='Heavy_Partial.csv')\n",
    "Heavy_Partial.to_csv('Heavy_Partial.zip', index=False,compression=compression_opts)\n",
    "compression_opts = dict(method='zip',archive_name='Light_Partial.csv')\n",
    "Light_Partial.to_csv('Light_Partial.zip', index=False,compression=compression_opts)"
   ]
  }
 ],
 "metadata": {
  "kernelspec": {
   "display_name": "Python 3",
   "language": "python",
   "name": "python3"
  },
  "language_info": {
   "codemirror_mode": {
    "name": "ipython",
    "version": 3
   },
   "file_extension": ".py",
   "mimetype": "text/x-python",
   "name": "python",
   "nbconvert_exporter": "python",
   "pygments_lexer": "ipython3",
   "version": "3.7.8"
  }
 },
 "nbformat": 4,
 "nbformat_minor": 4
}
